{
  "nbformat": 4,
  "nbformat_minor": 0,
  "metadata": {
    "colab": {
      "provenance": [],
      "include_colab_link": true
    },
    "kernelspec": {
      "name": "python3",
      "display_name": "Python 3"
    },
    "language_info": {
      "name": "python"
    }
  },
  "cells": [
    {
      "cell_type": "markdown",
      "metadata": {
        "id": "view-in-github",
        "colab_type": "text"
      },
      "source": [
        "<a href=\"https://colab.research.google.com/github/hannaribaspeeters/NLP-ETH/blob/main/neural_tranducers.ipynb\" target=\"_parent\"><img src=\"https://colab.research.google.com/assets/colab-badge.svg\" alt=\"Open In Colab\"/></a>"
      ]
    },
    {
      "cell_type": "markdown",
      "source": [
        "# Assignment 3 - Transliteration"
      ],
      "metadata": {
        "id": "XSIPwHJdYR6E"
      }
    },
    {
      "cell_type": "markdown",
      "source": [
        "### Setup [do not change]"
      ],
      "metadata": {
        "id": "pcy6UafEX5hB"
      }
    },
    {
      "cell_type": "code",
      "execution_count": null,
      "metadata": {
        "id": "kN-iTMK8ScoR",
        "colab": {
          "base_uri": "https://localhost:8080/"
        },
        "outputId": "1db0bb1a-520f-4ba2-bb1e-c557ff87c68f"
      },
      "outputs": [
        {
          "output_type": "stream",
          "name": "stdout",
          "text": [
            "Cloning into 'eth-nlp-f22-hw3'...\n",
            "remote: Enumerating objects: 29, done.\u001b[K\n",
            "remote: Counting objects: 100% (29/29), done.\u001b[K\n",
            "remote: Compressing objects: 100% (25/25), done.\u001b[K\n",
            "remote: Total 29 (delta 6), reused 16 (delta 2), pack-reused 0\u001b[K\n",
            "Unpacking objects: 100% (29/29), 9.90 KiB | 1.10 MiB/s, done.\n",
            "Looking in indexes: https://pypi.org/simple, https://us-python.pkg.dev/colab-wheels/public/simple/\n",
            "Obtaining file:///content/eth-nlp-f22-hw3\n",
            "  Preparing metadata (setup.py) ... \u001b[?25l\u001b[?25hdone\n",
            "Requirement already satisfied: numpy in /usr/local/lib/python3.8/dist-packages (from rayuela==0.1) (1.21.6)\n",
            "Collecting frozendict\n",
            "  Downloading frozendict-2.3.4-cp38-cp38-manylinux_2_17_x86_64.manylinux2014_x86_64.whl (110 kB)\n",
            "\u001b[2K     \u001b[90m━━━━━━━━━━━━━━━━━━━━━━━━━━━━━━━━━━━━━━━\u001b[0m \u001b[32m111.0/111.0 KB\u001b[0m \u001b[31m3.0 MB/s\u001b[0m eta \u001b[36m0:00:00\u001b[0m\n",
            "\u001b[?25hRequirement already satisfied: frozenlist in /usr/local/lib/python3.8/dist-packages (from rayuela==0.1) (1.3.3)\n",
            "Collecting pyconll\n",
            "  Downloading pyconll-3.1.0-py3-none-any.whl (26 kB)\n",
            "Requirement already satisfied: nltk in /usr/local/lib/python3.8/dist-packages (from rayuela==0.1) (3.7)\n",
            "Requirement already satisfied: pytest in /usr/local/lib/python3.8/dist-packages (from rayuela==0.1) (3.6.4)\n",
            "Requirement already satisfied: dill in /usr/local/lib/python3.8/dist-packages (from rayuela==0.1) (0.3.6)\n",
            "Requirement already satisfied: click in /usr/local/lib/python3.8/dist-packages (from nltk->rayuela==0.1) (7.1.2)\n",
            "Requirement already satisfied: tqdm in /usr/local/lib/python3.8/dist-packages (from nltk->rayuela==0.1) (4.64.1)\n",
            "Requirement already satisfied: regex>=2021.8.3 in /usr/local/lib/python3.8/dist-packages (from nltk->rayuela==0.1) (2022.6.2)\n",
            "Requirement already satisfied: joblib in /usr/local/lib/python3.8/dist-packages (from nltk->rayuela==0.1) (1.2.0)\n",
            "Requirement already satisfied: six>=1.10.0 in /usr/local/lib/python3.8/dist-packages (from pytest->rayuela==0.1) (1.15.0)\n",
            "Requirement already satisfied: py>=1.5.0 in /usr/local/lib/python3.8/dist-packages (from pytest->rayuela==0.1) (1.11.0)\n",
            "Requirement already satisfied: setuptools in /usr/local/lib/python3.8/dist-packages (from pytest->rayuela==0.1) (57.4.0)\n",
            "Requirement already satisfied: atomicwrites>=1.0 in /usr/local/lib/python3.8/dist-packages (from pytest->rayuela==0.1) (1.4.1)\n",
            "Requirement already satisfied: more-itertools>=4.0.0 in /usr/local/lib/python3.8/dist-packages (from pytest->rayuela==0.1) (9.0.0)\n",
            "Requirement already satisfied: pluggy<0.8,>=0.5 in /usr/local/lib/python3.8/dist-packages (from pytest->rayuela==0.1) (0.7.1)\n",
            "Requirement already satisfied: attrs>=17.4.0 in /usr/local/lib/python3.8/dist-packages (from pytest->rayuela==0.1) (22.2.0)\n",
            "Installing collected packages: pyconll, frozendict, rayuela\n",
            "  Running setup.py develop for rayuela\n",
            "Successfully installed frozendict-2.3.4 pyconll-3.1.0 rayuela-0.1\n"
          ]
        }
      ],
      "source": [
        "!git clone https://github.com/butoialexandra/eth-nlp-f22-hw3.git\n",
        "\n",
        "import os\n",
        "os.chdir('eth-nlp-f22-hw3')\n",
        "\n",
        "!pip install -e ."
      ]
    },
    {
      "cell_type": "code",
      "source": [
        "!wget --no-check-certificate 'https://docs.google.com/uc?export=download&id=1wlHbFChZFcBgEU8knAeaUIqE0W4EaJEC' -O 'test_cases.pkl'"
      ],
      "metadata": {
        "id": "-4p3GQ0u2iX4",
        "outputId": "930a0aab-e50e-42b4-858f-31a70534b989",
        "colab": {
          "base_uri": "https://localhost:8080/"
        }
      },
      "execution_count": null,
      "outputs": [
        {
          "output_type": "stream",
          "name": "stdout",
          "text": [
            "--2023-02-07 20:51:16--  https://docs.google.com/uc?export=download&id=1wlHbFChZFcBgEU8knAeaUIqE0W4EaJEC\n",
            "Resolving docs.google.com (docs.google.com)... 108.177.126.113, 108.177.126.139, 108.177.126.102, ...\n",
            "Connecting to docs.google.com (docs.google.com)|108.177.126.113|:443... connected.\n",
            "HTTP request sent, awaiting response... 303 See Other\n",
            "Location: https://doc-0s-50-docs.googleusercontent.com/docs/securesc/ha0ro937gcuc7l7deffksulhg5h7mbp1/0ca9nl6mqdklkahls8l7kq3ueperu7gi/1675803075000/03249710210786382974/*/1wlHbFChZFcBgEU8knAeaUIqE0W4EaJEC?e=download&uuid=11aecb84-0155-493c-abee-41604f286e04 [following]\n",
            "Warning: wildcards not supported in HTTP.\n",
            "--2023-02-07 20:51:16--  https://doc-0s-50-docs.googleusercontent.com/docs/securesc/ha0ro937gcuc7l7deffksulhg5h7mbp1/0ca9nl6mqdklkahls8l7kq3ueperu7gi/1675803075000/03249710210786382974/*/1wlHbFChZFcBgEU8knAeaUIqE0W4EaJEC?e=download&uuid=11aecb84-0155-493c-abee-41604f286e04\n",
            "Resolving doc-0s-50-docs.googleusercontent.com (doc-0s-50-docs.googleusercontent.com)... 108.177.127.132, 2a00:1450:4013:c07::84\n",
            "Connecting to doc-0s-50-docs.googleusercontent.com (doc-0s-50-docs.googleusercontent.com)|108.177.127.132|:443... connected.\n",
            "HTTP request sent, awaiting response... 200 OK\n",
            "Length: 45349 (44K) [application/octet-stream]\n",
            "Saving to: ‘test_cases.pkl’\n",
            "\n",
            "test_cases.pkl      100%[===================>]  44.29K  --.-KB/s    in 0.001s  \n",
            "\n",
            "2023-02-07 20:51:17 (51.5 MB/s) - ‘test_cases.pkl’ saved [45349/45349]\n",
            "\n"
          ]
        }
      ]
    },
    {
      "cell_type": "code",
      "source": [
        "from rayuela.base.semiring import Semiring, Real, Tropical\n",
        "from rayuela.base.symbol import Sym, ε, ε_1, ε_2\n",
        "from rayuela.base.misc import epsilon_filter\n",
        "\n",
        "from rayuela.fsa.fst import FST\n",
        "from rayuela.fsa.state import State, PairState\n",
        "\n",
        "import dill\n",
        "import numpy as np\n",
        "from math import exp, log\n",
        "\n",
        "from itertools import product\n",
        "\n",
        "from frozendict import frozendict"
      ],
      "metadata": {
        "id": "hsr_q831W8rN"
      },
      "execution_count": null,
      "outputs": []
    },
    {
      "cell_type": "markdown",
      "source": [
        "### Subquestion a) - Log Semiring"
      ],
      "metadata": {
        "id": "wFL0YgNBYCf7"
      }
    },
    {
      "cell_type": "code",
      "source": [
        "class Log(Semiring):\n",
        "    def __init__(self, score):\n",
        "        self.score = score\n",
        "\n",
        "    def star(self):\n",
        "        return Log(np.log(1/(1-np.exp(self.score))))\n",
        "\n",
        "    def __float__(self):\n",
        "        return float(self.score)\n",
        "\n",
        "    def __add__(self, other):\n",
        "        # TODO: implement log addition\n",
        "        # For numerical stability you should use the using the log-sum-exp trick\n",
        "        # https://en.wikipedia.org/wiki/LogSumExp\n",
        "\n",
        "        return Log(np.log(np.exp(self.score) + np.exp(other.score)))\n",
        "\n",
        "    def __mul__(self, other):\n",
        "        # TODO: implement log multiplication\n",
        "        return Log(self.score + other.score)\n",
        "\n",
        "    def __repr__(self):\n",
        "        return f\"{round(self.score, 15)}\"\n",
        "\n",
        "    def __eq__(self, other):\n",
        "        return np.allclose(float(self.score), float(other.score), atol=1e-3)\n",
        "\n",
        "    def __hash__(self):\n",
        "        return hash(self.score)\n",
        "\n",
        "# TODO: implement the log semiring one and zero\n",
        "Log.zero = Log(- np.inf)\n",
        "Log.one = Log(0.0)\n",
        "\n",
        "\n",
        "Log.idempotent = False\n",
        "Log.cancellative = True"
      ],
      "metadata": {
        "id": "ny9YFmJ8avns"
      },
      "execution_count": null,
      "outputs": []
    },
    {
      "cell_type": "markdown",
      "source": [
        "### Before moving to the next subquestion, we give some examples of WFSTs to illustrate how to use the library `rayuela`."
      ],
      "metadata": {
        "id": "LH8LNXZpoCX6"
      }
    },
    {
      "cell_type": "code",
      "source": [
        "# A simple language model encoded by a WFST\n",
        "\n",
        "sem = Real # the Real semiring\n",
        "fst = FST(sem) # a WFST in the Real semiring\n",
        "\n",
        "# add transitions\n",
        "fst.add_arc(State(0), Sym('formal'), Sym('formal'), State(1), Real(0.2))\n",
        "fst.add_arc(State(0), Sym('natural'), Sym('natural'), State(1), Real(0.3))\n",
        "fst.add_arc(State(0), Sym('learning'), Sym('learning'), State(2), Real(0.2))\n",
        "fst.add_arc(State(0), Sym('data'), Sym('data'), State(3), Real(0.3))\n",
        "\n",
        "fst.add_arc(State(1), Sym('language'), Sym('language'), State(2), Real(0.6))\n",
        "fst.add_arc(State(1), Sym('languages'), Sym('languages'), State(4), Real(0.4))\n",
        "\n",
        "fst.add_arc(State(2), Sym('is'), Sym('is'), State(5), Real(1.0))\n",
        "\n",
        "fst.add_arc(State(5), Sym('fun'), Sym('fun'), State(6), Real(1.0))\n",
        "\n",
        "fst.add_arc(State(3), Sym('is'), Sym('is'), State(5), Real(0.5))\n",
        "fst.add_arc(State(3), Sym('are'), Sym('are'), State(5), Real(0.5))\n",
        "\n",
        "fst.add_arc(State(4), Sym('are'), Sym('are'), State(5), Real(1.0))\n",
        "\n",
        "# set initial weights\n",
        "# if not set, it defaults to semiring zero\n",
        "fst.set_I(State(0), Real(1.0))\n",
        "# set final weights\n",
        "fst.set_F(State(6), Real(1.0))\n",
        "\n",
        "# visualize\n",
        "fst"
      ],
      "metadata": {
        "id": "RJzHo7imoDb9",
        "colab": {
          "base_uri": "https://localhost:8080/",
          "height": 260
        },
        "outputId": "1abc631c-ccdc-4614-9893-3f1c4186239d"
      },
      "execution_count": null,
      "outputs": [
        {
          "output_type": "execute_result",
          "data": {
            "text/plain": [
              "WFSA(7 states, <class 'rayuela.base.semiring.Real'>)"
            ],
            "text/html": [
              "\n",
              "\t\t<script>\n",
              "\t\ttry {\n",
              "\t\trequire.config({\n",
              "\t\tpaths: {\n",
              "\t\t\"d3\": \"https://cdnjs.cloudflare.com/ajax/libs/d3/4.13.0/d3\",\n",
              "\t\t\"dagreD3\": \"https://cdnjs.cloudflare.com/ajax/libs/dagre-d3/0.6.1/dagre-d3.min\"\n",
              "\t\t}\n",
              "\t\t});\n",
              "\t\t} catch {\n",
              "\t\t  [\"https://cdnjs.cloudflare.com/ajax/libs/d3/4.13.0/d3.js\",\n",
              "\t\t   \"https://cdnjs.cloudflare.com/ajax/libs/dagre-d3/0.6.1/dagre-d3.min.js\"].forEach(function (src) {\n",
              "\t\t\tvar tag = document.createElement('script');\n",
              "\t\t\ttag.src = src;\n",
              "\t\t\tdocument.body.appendChild(tag);\n",
              "\t\t  })\n",
              "\t\t}\n",
              "\t\ttry {\n",
              "\t\trequirejs(['d3', 'dagreD3'], function() {});\n",
              "\t\t} catch (e) {}\n",
              "\t\ttry {\n",
              "\t\trequire(['d3', 'dagreD3'], function() {});\n",
              "\t\t} catch (e) {}\n",
              "\t\t</script>\n",
              "\t\t<style>\n",
              "\t\t.node rect,\n",
              "\t\t.node circle,\n",
              "\t\t.node ellipse {\n",
              "\t\tstroke: #333;\n",
              "\t\tfill: #fff;\n",
              "\t\tstroke-width: 1px;\n",
              "\t\t}\n",
              "\n",
              "\t\t.edgePath path {\n",
              "\t\tstroke: #333;\n",
              "\t\tfill: #333;\n",
              "\t\tstroke-width: 1.5px;\n",
              "\t\t}\n",
              "\t\t</style>\n",
              "\t\t<center><svg width=\"850\" height=\"600\" id=\"fst_6bf7e370112f4a309fb095627afde6df\"><g/></svg></center>\n",
              "\t\t<script>\n",
              "\t\t(function render_d3() {\n",
              "\t\tvar d3, dagreD3;\n",
              "\t\ttry { // requirejs is broken on external domains\n",
              "\t\t  d3 = require('d3');\n",
              "\t\t  dagreD3 = require('dagreD3');\n",
              "\t\t} catch (e) {\n",
              "\t\t  // for google colab\n",
              "\t\t  if(typeof window.d3 !== \"undefined\" && typeof window.dagreD3 !== \"undefined\") {\n",
              "\t\t\td3 = window.d3;\n",
              "\t\t\tdagreD3 = window.dagreD3;\n",
              "\t\t  } else { // not loaded yet, so wait and try again\n",
              "\t\t\tsetTimeout(render_d3, 50);\n",
              "\t\t\treturn;\n",
              "\t\t  }\n",
              "\t\t}\n",
              "\t\t//alert(\"loaded\");\n",
              "\t\tvar g = new dagreD3.graphlib.Graph().setGraph({ 'rankdir': 'LR' });\n",
              "\t\tg.setNode(\"0\", { label: \"0 / 1.0\" , shape: \"circle\" });\n",
              "g.node(\"0\").style = \"fill: #66c2a5\"; \n",
              "g.setNode(\"1\", { label: \"1\" , shape: \"circle\" });\n",
              "g.node(\"1\").style = \"fill: #8da0cb\"; \n",
              "g.setNode(\"2\", { label: \"2\" , shape: \"circle\" });\n",
              "g.node(\"2\").style = \"fill: #8da0cb\"; \n",
              "g.setNode(\"3\", { label: \"3\" , shape: \"circle\" });\n",
              "g.node(\"3\").style = \"fill: #8da0cb\"; \n",
              "g.setNode(\"4\", { label: \"4\" , shape: \"circle\" });\n",
              "g.node(\"4\").style = \"fill: #8da0cb\"; \n",
              "g.setNode(\"5\", { label: \"5\" , shape: \"circle\" });\n",
              "g.node(\"5\").style = \"fill: #8da0cb\"; \n",
              "g.setNode(\"6\", { label: \"6 / 1.0\" , shape: \"circle\" });\n",
              "g.node(\"6\").style = \"fill: #fc8d62\"; \n",
              "g.setEdge(\"0\", \"1\", { arrowhead: \"vee\", label: \"(formal, formal) / 0.2\\n(natural, natural) / 0.3\" });\n",
              "g.setEdge(\"0\", \"2\", { arrowhead: \"vee\", label: \"(learning, learning) / 0.2\" });\n",
              "g.setEdge(\"0\", \"3\", { arrowhead: \"vee\", label: \"(data, data) / 0.3\" });\n",
              "g.setEdge(\"1\", \"2\", { arrowhead: \"vee\", label: \"(language, language) / 0.6\" });\n",
              "g.setEdge(\"1\", \"4\", { arrowhead: \"vee\", label: \"(languages, languages) / 0.4\" });\n",
              "g.setEdge(\"2\", \"5\", { arrowhead: \"vee\", label: \"(is, is) / 1.0\" });\n",
              "g.setEdge(\"3\", \"5\", { arrowhead: \"vee\", label: \"(is, is) / 0.5\\n(are, are) / 0.5\" });\n",
              "g.setEdge(\"4\", \"5\", { arrowhead: \"vee\", label: \"(are, are) / 1.0\" });\n",
              "g.setEdge(\"5\", \"6\", { arrowhead: \"vee\", label: \"(fun, fun) / 1.0\" });\n",
              "var svg = d3.select(\"#fst_6bf7e370112f4a309fb095627afde6df\"); \n",
              "\n",
              "\t\tvar inner = svg.select(\"g\");\n",
              "\n",
              "\t\t// Set up zoom support\n",
              "\t\tvar zoom = d3.zoom().scaleExtent([0.3, 5]).on(\"zoom\", function() {\n",
              "\t\tinner.attr(\"transform\", d3.event.transform);\n",
              "\t\t});\n",
              "\t\tsvg.call(zoom);\n",
              "\n",
              "\t\t// Create the renderer\n",
              "\t\tvar render = new dagreD3.render();\n",
              "\n",
              "\t\t// Run the renderer. This is what draws the final graph.\n",
              "\t\trender(inner, g);\n",
              "\n",
              "\t\t// Center the graph\n",
              "\t\tvar initialScale = 0.75;\n",
              "\t\tsvg.call(zoom.transform, d3.zoomIdentity.translate(\n",
              "\t\t    (svg.attr(\"width\") - g.graph().width * initialScale) / 2, 20).scale(initialScale));\n",
              "\n",
              "\t\tsvg.attr('height', g.graph().height * initialScale + 50);\n",
              "\t\t})();\n",
              "\n",
              "\t\t</script>\n",
              "\t\t"
            ]
          },
          "metadata": {},
          "execution_count": 5
        }
      ]
    },
    {
      "cell_type": "code",
      "source": [
        "# A simple WFSA for transliteration\n",
        "\n",
        "sem = Real # semiring\n",
        "fst = FST(sem) # initialize WFST in the chosen semiring\n",
        "one, zero = sem.one, sem.zero # semiring one and zero\n",
        "\n",
        "# add transitions\n",
        "fst.add_arc(State(0), Sym('d'), Sym('data'), State(1), Real(0.5))\n",
        "fst.add_arc(State(0), Sym('d'), Sym('dew'), State(5), Real(0.5))\n",
        "\n",
        "fst.add_arc(State(1), Sym('ey'), Sym('ÃŽÂµ'), State(2), Real(0.5))\n",
        "fst.add_arc(State(1), Sym('ae'), Sym('ÃŽÂµ'), State(2), Real(0.5))\n",
        "\n",
        "fst.add_arc(State(2), Sym('t'), Sym('ÃŽÂµ'), State(3), Real(0.7))\n",
        "fst.add_arc(State(2), Sym('dx'), Sym('ÃŽÂµ'), State(3), Real(0.3))\n",
        "\n",
        "fst.add_arc(State(3), Sym('ax'), Sym('ÃŽÂµ'), State(4), one)\n",
        "\n",
        "fst.add_arc(State(5), Sym('uw'), Sym('ÃŽÂµ'), State(6), one)\n",
        "\n",
        "# initial and final weights\n",
        "fst.set_I(State(0), one)\n",
        "fst.set_F(State(4), one)\n",
        "fst.set_F(State(6), one)\n",
        "\n",
        "fst"
      ],
      "metadata": {
        "id": "6FpH94cRoGai",
        "colab": {
          "base_uri": "https://localhost:8080/",
          "height": 188
        },
        "outputId": "0f3a02b7-6614-4cb7-edc5-1649d48a085c"
      },
      "execution_count": null,
      "outputs": [
        {
          "output_type": "execute_result",
          "data": {
            "text/plain": [
              "WFSA(7 states, <class 'rayuela.base.semiring.Real'>)"
            ],
            "text/html": [
              "\n",
              "\t\t<script>\n",
              "\t\ttry {\n",
              "\t\trequire.config({\n",
              "\t\tpaths: {\n",
              "\t\t\"d3\": \"https://cdnjs.cloudflare.com/ajax/libs/d3/4.13.0/d3\",\n",
              "\t\t\"dagreD3\": \"https://cdnjs.cloudflare.com/ajax/libs/dagre-d3/0.6.1/dagre-d3.min\"\n",
              "\t\t}\n",
              "\t\t});\n",
              "\t\t} catch {\n",
              "\t\t  [\"https://cdnjs.cloudflare.com/ajax/libs/d3/4.13.0/d3.js\",\n",
              "\t\t   \"https://cdnjs.cloudflare.com/ajax/libs/dagre-d3/0.6.1/dagre-d3.min.js\"].forEach(function (src) {\n",
              "\t\t\tvar tag = document.createElement('script');\n",
              "\t\t\ttag.src = src;\n",
              "\t\t\tdocument.body.appendChild(tag);\n",
              "\t\t  })\n",
              "\t\t}\n",
              "\t\ttry {\n",
              "\t\trequirejs(['d3', 'dagreD3'], function() {});\n",
              "\t\t} catch (e) {}\n",
              "\t\ttry {\n",
              "\t\trequire(['d3', 'dagreD3'], function() {});\n",
              "\t\t} catch (e) {}\n",
              "\t\t</script>\n",
              "\t\t<style>\n",
              "\t\t.node rect,\n",
              "\t\t.node circle,\n",
              "\t\t.node ellipse {\n",
              "\t\tstroke: #333;\n",
              "\t\tfill: #fff;\n",
              "\t\tstroke-width: 1px;\n",
              "\t\t}\n",
              "\n",
              "\t\t.edgePath path {\n",
              "\t\tstroke: #333;\n",
              "\t\tfill: #333;\n",
              "\t\tstroke-width: 1.5px;\n",
              "\t\t}\n",
              "\t\t</style>\n",
              "\t\t<center><svg width=\"850\" height=\"600\" id=\"fst_599f1427712249e181cc8fdd8d5f2f2d\"><g/></svg></center>\n",
              "\t\t<script>\n",
              "\t\t(function render_d3() {\n",
              "\t\tvar d3, dagreD3;\n",
              "\t\ttry { // requirejs is broken on external domains\n",
              "\t\t  d3 = require('d3');\n",
              "\t\t  dagreD3 = require('dagreD3');\n",
              "\t\t} catch (e) {\n",
              "\t\t  // for google colab\n",
              "\t\t  if(typeof window.d3 !== \"undefined\" && typeof window.dagreD3 !== \"undefined\") {\n",
              "\t\t\td3 = window.d3;\n",
              "\t\t\tdagreD3 = window.dagreD3;\n",
              "\t\t  } else { // not loaded yet, so wait and try again\n",
              "\t\t\tsetTimeout(render_d3, 50);\n",
              "\t\t\treturn;\n",
              "\t\t  }\n",
              "\t\t}\n",
              "\t\t//alert(\"loaded\");\n",
              "\t\tvar g = new dagreD3.graphlib.Graph().setGraph({ 'rankdir': 'LR' });\n",
              "\t\tg.setNode(\"0\", { label: \"0 / 1.0\" , shape: \"circle\" });\n",
              "g.node(\"0\").style = \"fill: #66c2a5\"; \n",
              "g.setNode(\"1\", { label: \"1\" , shape: \"circle\" });\n",
              "g.node(\"1\").style = \"fill: #8da0cb\"; \n",
              "g.setNode(\"2\", { label: \"2\" , shape: \"circle\" });\n",
              "g.node(\"2\").style = \"fill: #8da0cb\"; \n",
              "g.setNode(\"3\", { label: \"3\" , shape: \"circle\" });\n",
              "g.node(\"3\").style = \"fill: #8da0cb\"; \n",
              "g.setNode(\"5\", { label: \"5\" , shape: \"circle\" });\n",
              "g.node(\"5\").style = \"fill: #8da0cb\"; \n",
              "g.setNode(\"4\", { label: \"4 / 1.0\" , shape: \"circle\" });\n",
              "g.node(\"4\").style = \"fill: #fc8d62\"; \n",
              "g.setNode(\"6\", { label: \"6 / 1.0\" , shape: \"circle\" });\n",
              "g.node(\"6\").style = \"fill: #fc8d62\"; \n",
              "g.setEdge(\"0\", \"1\", { arrowhead: \"vee\", label: \"(d, data) / 0.5\" });\n",
              "g.setEdge(\"0\", \"5\", { arrowhead: \"vee\", label: \"(d, dew) / 0.5\" });\n",
              "g.setEdge(\"1\", \"2\", { arrowhead: \"vee\", label: \"(ey, \\u00c3\\u017d\\u00c2\\u00b5) / 0.5\\n(ae, \\u00c3\\u017d\\u00c2\\u00b5) / 0.5\" });\n",
              "g.setEdge(\"2\", \"3\", { arrowhead: \"vee\", label: \"(t, \\u00c3\\u017d\\u00c2\\u00b5) / 0.7\\n(dx, \\u00c3\\u017d\\u00c2\\u00b5) / 0.3\" });\n",
              "g.setEdge(\"3\", \"4\", { arrowhead: \"vee\", label: \"(ax, \\u00c3\\u017d\\u00c2\\u00b5) / 1.0\" });\n",
              "g.setEdge(\"5\", \"6\", { arrowhead: \"vee\", label: \"(uw, \\u00c3\\u017d\\u00c2\\u00b5) / 1.0\" });\n",
              "var svg = d3.select(\"#fst_599f1427712249e181cc8fdd8d5f2f2d\"); \n",
              "\n",
              "\t\tvar inner = svg.select(\"g\");\n",
              "\n",
              "\t\t// Set up zoom support\n",
              "\t\tvar zoom = d3.zoom().scaleExtent([0.3, 5]).on(\"zoom\", function() {\n",
              "\t\tinner.attr(\"transform\", d3.event.transform);\n",
              "\t\t});\n",
              "\t\tsvg.call(zoom);\n",
              "\n",
              "\t\t// Create the renderer\n",
              "\t\tvar render = new dagreD3.render();\n",
              "\n",
              "\t\t// Run the renderer. This is what draws the final graph.\n",
              "\t\trender(inner, g);\n",
              "\n",
              "\t\t// Center the graph\n",
              "\t\tvar initialScale = 0.75;\n",
              "\t\tsvg.call(zoom.transform, d3.zoomIdentity.translate(\n",
              "\t\t    (svg.attr(\"width\") - g.graph().width * initialScale) / 2, 20).scale(initialScale));\n",
              "\n",
              "\t\tsvg.attr('height', g.graph().height * initialScale + 50);\n",
              "\t\t})();\n",
              "\n",
              "\t\t</script>\n",
              "\t\t"
            ]
          },
          "metadata": {},
          "execution_count": 6
        }
      ]
    },
    {
      "cell_type": "markdown",
      "source": [
        "### Subquestion b) - String Transducer"
      ],
      "metadata": {
        "id": "9pioLluSYjJK"
      }
    },
    {
      "cell_type": "code",
      "source": [
        "\n",
        "def string_fst(s, semiring=Log):\n",
        "    \"\"\" Takes a string as input and a semiring\n",
        "    and returns a transducer encoding of the\n",
        "    string\n",
        "    \"\"\"\n",
        "    fst = FST(semiring)\n",
        "    one = semiring.one\n",
        "\n",
        "    for i, char in enumerate(s):\n",
        "        fst.add_arc(State(i), Sym(char), Sym(char), State(i+1), one)\n",
        "\n",
        "    # initial and final weights\n",
        "    fst.set_I(State(0), one)\n",
        "    fst.set_F(State(len(s)), one)\n",
        "\n",
        "    return fst"
      ],
      "metadata": {
        "id": "bncEcn9mbiS9"
      },
      "execution_count": null,
      "outputs": []
    },
    {
      "cell_type": "code",
      "source": [
        "# you can visualise the transducer\n",
        "fst = string_fst(\"abc\", semiring=Real)\n",
        "fst"
      ],
      "metadata": {
        "id": "xogIlSbTeuoU",
        "outputId": "a6725805-a7bb-4367-e909-1ecfd82c053c",
        "colab": {
          "base_uri": "https://localhost:8080/",
          "height": 115
        }
      },
      "execution_count": null,
      "outputs": [
        {
          "output_type": "execute_result",
          "data": {
            "text/plain": [
              "WFSA(4 states, <class 'rayuela.base.semiring.Real'>)"
            ],
            "text/html": [
              "\n",
              "\t\t<script>\n",
              "\t\ttry {\n",
              "\t\trequire.config({\n",
              "\t\tpaths: {\n",
              "\t\t\"d3\": \"https://cdnjs.cloudflare.com/ajax/libs/d3/4.13.0/d3\",\n",
              "\t\t\"dagreD3\": \"https://cdnjs.cloudflare.com/ajax/libs/dagre-d3/0.6.1/dagre-d3.min\"\n",
              "\t\t}\n",
              "\t\t});\n",
              "\t\t} catch {\n",
              "\t\t  [\"https://cdnjs.cloudflare.com/ajax/libs/d3/4.13.0/d3.js\",\n",
              "\t\t   \"https://cdnjs.cloudflare.com/ajax/libs/dagre-d3/0.6.1/dagre-d3.min.js\"].forEach(function (src) {\n",
              "\t\t\tvar tag = document.createElement('script');\n",
              "\t\t\ttag.src = src;\n",
              "\t\t\tdocument.body.appendChild(tag);\n",
              "\t\t  })\n",
              "\t\t}\n",
              "\t\ttry {\n",
              "\t\trequirejs(['d3', 'dagreD3'], function() {});\n",
              "\t\t} catch (e) {}\n",
              "\t\ttry {\n",
              "\t\trequire(['d3', 'dagreD3'], function() {});\n",
              "\t\t} catch (e) {}\n",
              "\t\t</script>\n",
              "\t\t<style>\n",
              "\t\t.node rect,\n",
              "\t\t.node circle,\n",
              "\t\t.node ellipse {\n",
              "\t\tstroke: #333;\n",
              "\t\tfill: #fff;\n",
              "\t\tstroke-width: 1px;\n",
              "\t\t}\n",
              "\n",
              "\t\t.edgePath path {\n",
              "\t\tstroke: #333;\n",
              "\t\tfill: #333;\n",
              "\t\tstroke-width: 1.5px;\n",
              "\t\t}\n",
              "\t\t</style>\n",
              "\t\t<center><svg width=\"850\" height=\"600\" id=\"fst_f0b65b5916674273a6844059e266da84\"><g/></svg></center>\n",
              "\t\t<script>\n",
              "\t\t(function render_d3() {\n",
              "\t\tvar d3, dagreD3;\n",
              "\t\ttry { // requirejs is broken on external domains\n",
              "\t\t  d3 = require('d3');\n",
              "\t\t  dagreD3 = require('dagreD3');\n",
              "\t\t} catch (e) {\n",
              "\t\t  // for google colab\n",
              "\t\t  if(typeof window.d3 !== \"undefined\" && typeof window.dagreD3 !== \"undefined\") {\n",
              "\t\t\td3 = window.d3;\n",
              "\t\t\tdagreD3 = window.dagreD3;\n",
              "\t\t  } else { // not loaded yet, so wait and try again\n",
              "\t\t\tsetTimeout(render_d3, 50);\n",
              "\t\t\treturn;\n",
              "\t\t  }\n",
              "\t\t}\n",
              "\t\t//alert(\"loaded\");\n",
              "\t\tvar g = new dagreD3.graphlib.Graph().setGraph({ 'rankdir': 'LR' });\n",
              "\t\tg.setNode(\"0\", { label: \"0 / 1.0\" , shape: \"circle\" });\n",
              "g.node(\"0\").style = \"fill: #66c2a5\"; \n",
              "g.setNode(\"1\", { label: \"1\" , shape: \"circle\" });\n",
              "g.node(\"1\").style = \"fill: #8da0cb\"; \n",
              "g.setNode(\"2\", { label: \"2\" , shape: \"circle\" });\n",
              "g.node(\"2\").style = \"fill: #8da0cb\"; \n",
              "g.setNode(\"3\", { label: \"3 / 1.0\" , shape: \"circle\" });\n",
              "g.node(\"3\").style = \"fill: #fc8d62\"; \n",
              "g.setEdge(\"0\", \"1\", { arrowhead: \"vee\", label: \"(a, a) / 1.0\" });\n",
              "g.setEdge(\"1\", \"2\", { arrowhead: \"vee\", label: \"(b, b) / 1.0\" });\n",
              "g.setEdge(\"2\", \"3\", { arrowhead: \"vee\", label: \"(c, c) / 1.0\" });\n",
              "var svg = d3.select(\"#fst_f0b65b5916674273a6844059e266da84\"); \n",
              "\n",
              "\t\tvar inner = svg.select(\"g\");\n",
              "\n",
              "\t\t// Set up zoom support\n",
              "\t\tvar zoom = d3.zoom().scaleExtent([0.3, 5]).on(\"zoom\", function() {\n",
              "\t\tinner.attr(\"transform\", d3.event.transform);\n",
              "\t\t});\n",
              "\t\tsvg.call(zoom);\n",
              "\n",
              "\t\t// Create the renderer\n",
              "\t\tvar render = new dagreD3.render();\n",
              "\n",
              "\t\t// Run the renderer. This is what draws the final graph.\n",
              "\t\trender(inner, g);\n",
              "\n",
              "\t\t// Center the graph\n",
              "\t\tvar initialScale = 0.75;\n",
              "\t\tsvg.call(zoom.transform, d3.zoomIdentity.translate(\n",
              "\t\t    (svg.attr(\"width\") - g.graph().width * initialScale) / 2, 20).scale(initialScale));\n",
              "\n",
              "\t\tsvg.attr('height', g.graph().height * initialScale + 50);\n",
              "\t\t})();\n",
              "\n",
              "\t\t</script>\n",
              "\t\t"
            ]
          },
          "metadata": {},
          "execution_count": 8
        }
      ]
    },
    {
      "cell_type": "markdown",
      "source": [
        "### Subquestion c) - Edit Distance Transducer\n"
      ],
      "metadata": {
        "id": "We9mAj-SYrz3"
      }
    },
    {
      "cell_type": "markdown",
      "source": [
        "As we will not learn the weights on the arcs, you can set them to some pre-defined constants. You should choose the weights such that the pathsum that needs to be computed in e) does not diverge (this is caused by the weights of the self-loops in the transducer).\n",
        "\n"
      ],
      "metadata": {
        "id": "23AP7EiJrJ2B"
      }
    },
    {
      "cell_type": "code",
      "source": [
        "def edit_distance_fst(source_alphabet, target_alphabet, semiring=Log):\n",
        "    \"\"\" Takes as input two sets of characters (source and target\n",
        "    alphabets) and a semiring and returns an edit-distance transducer\n",
        "    \"\"\"\n",
        "\n",
        "    fst = FST(semiring)\n",
        "    one = semiring.one\n",
        "    eps = '\\u03B5'\n",
        "\n",
        "    fst.set_I(State(0), one)\n",
        "\n",
        "    for i, char in enumerate(target_alphabet):\n",
        "        fst.set_F(i+1, one)\n",
        "\n",
        "    for init_state in range(len(target_alphabet)+1):\n",
        "        for ci in source_alphabet.union({eps}):\n",
        "            for i, co in enumerate(target_alphabet.union({eps})):\n",
        "\n",
        "                if co != eps:\n",
        "                    final_state = i\n",
        "                    fst.add_arc(State(init_state), Sym(ci), Sym(co),\n",
        "                                State(final_state), semiring(1))\n",
        "                elif ci != eps:\n",
        "                    final_state = init_state\n",
        "                    fst.add_arc(State(init_state), Sym(ci), Sym(co),\n",
        "                                State(final_state), semiring(1))\n",
        "                else:\n",
        "                    pass\n",
        "\n",
        "\n",
        "    return fst"
      ],
      "metadata": {
        "id": "TG1G9JdUfEK_"
      },
      "execution_count": null,
      "outputs": []
    },
    {
      "cell_type": "code",
      "source": [
        "fst1 = string_fst(\"abc\", semiring=Real)\n",
        "fst2 = edit_distance_fst({'a', 'b', 'c'}, {'d', 'e'}, semiring=Real)"
      ],
      "metadata": {
        "id": "MHcI9jiG1-5f"
      },
      "execution_count": null,
      "outputs": []
    },
    {
      "cell_type": "code",
      "source": [
        "fst = edit_distance_fst({'a', 'b', 'c'}, {'d', 'e'}, semiring=Log)\n",
        "\n",
        "fst"
      ],
      "metadata": {
        "id": "eB2rZ_7xhB8o",
        "colab": {
          "base_uri": "https://localhost:8080/",
          "height": 285
        },
        "outputId": "5a202da4-5608-4fa2-be58-df225e78f737"
      },
      "execution_count": null,
      "outputs": [
        {
          "output_type": "execute_result",
          "data": {
            "text/plain": [
              "WFSA(3 states, <class '__main__.Log'>)"
            ],
            "text/html": [
              "\n",
              "\t\t<script>\n",
              "\t\ttry {\n",
              "\t\trequire.config({\n",
              "\t\tpaths: {\n",
              "\t\t\"d3\": \"https://cdnjs.cloudflare.com/ajax/libs/d3/4.13.0/d3\",\n",
              "\t\t\"dagreD3\": \"https://cdnjs.cloudflare.com/ajax/libs/dagre-d3/0.6.1/dagre-d3.min\"\n",
              "\t\t}\n",
              "\t\t});\n",
              "\t\t} catch {\n",
              "\t\t  [\"https://cdnjs.cloudflare.com/ajax/libs/d3/4.13.0/d3.js\",\n",
              "\t\t   \"https://cdnjs.cloudflare.com/ajax/libs/dagre-d3/0.6.1/dagre-d3.min.js\"].forEach(function (src) {\n",
              "\t\t\tvar tag = document.createElement('script');\n",
              "\t\t\ttag.src = src;\n",
              "\t\t\tdocument.body.appendChild(tag);\n",
              "\t\t  })\n",
              "\t\t}\n",
              "\t\ttry {\n",
              "\t\trequirejs(['d3', 'dagreD3'], function() {});\n",
              "\t\t} catch (e) {}\n",
              "\t\ttry {\n",
              "\t\trequire(['d3', 'dagreD3'], function() {});\n",
              "\t\t} catch (e) {}\n",
              "\t\t</script>\n",
              "\t\t<style>\n",
              "\t\t.node rect,\n",
              "\t\t.node circle,\n",
              "\t\t.node ellipse {\n",
              "\t\tstroke: #333;\n",
              "\t\tfill: #fff;\n",
              "\t\tstroke-width: 1px;\n",
              "\t\t}\n",
              "\n",
              "\t\t.edgePath path {\n",
              "\t\tstroke: #333;\n",
              "\t\tfill: #333;\n",
              "\t\tstroke-width: 1.5px;\n",
              "\t\t}\n",
              "\t\t</style>\n",
              "\t\t<center><svg width=\"850\" height=\"600\" id=\"fst_6f16a78e1e3d4170b4123a6806064a26\"><g/></svg></center>\n",
              "\t\t<script>\n",
              "\t\t(function render_d3() {\n",
              "\t\tvar d3, dagreD3;\n",
              "\t\ttry { // requirejs is broken on external domains\n",
              "\t\t  d3 = require('d3');\n",
              "\t\t  dagreD3 = require('dagreD3');\n",
              "\t\t} catch (e) {\n",
              "\t\t  // for google colab\n",
              "\t\t  if(typeof window.d3 !== \"undefined\" && typeof window.dagreD3 !== \"undefined\") {\n",
              "\t\t\td3 = window.d3;\n",
              "\t\t\tdagreD3 = window.dagreD3;\n",
              "\t\t  } else { // not loaded yet, so wait and try again\n",
              "\t\t\tsetTimeout(render_d3, 50);\n",
              "\t\t\treturn;\n",
              "\t\t  }\n",
              "\t\t}\n",
              "\t\t//alert(\"loaded\");\n",
              "\t\tvar g = new dagreD3.graphlib.Graph().setGraph({ 'rankdir': 'LR' });\n",
              "\t\tg.setNode(\"0\", { label: \"0 / 0.0\" , shape: \"circle\" });\n",
              "g.node(\"0\").style = \"fill: #66c2a5\"; \n",
              "g.setNode(\"1\", { label: \"1 / 0.0\" , shape: \"circle\" });\n",
              "g.node(\"1\").style = \"fill: #fc8d62\"; \n",
              "g.setNode(\"2\", { label: \"2 / 0.0\" , shape: \"circle\" });\n",
              "g.node(\"2\").style = \"fill: #fc8d62\"; \n",
              "g.setEdge(\"0\", \"1\", { arrowhead: \"vee\", label: \"(\\u03b5, e) / 1.0\\n(b, e) / 1.0\\n(a, e) / 1.0\\n(c, e) / 1.0\" });\n",
              "g.setEdge(\"0\", \"2\", { arrowhead: \"vee\", label: \"(\\u03b5, d) / 1.0\\n(b, d) / 1.0\\n(a, d) / 1.0\\n(c, d) / 1.0\" });\n",
              "g.setEdge(\"0\", \"0\", { arrowhead: \"vee\", label: \"(b, \\u03b5) / 1.0\\n(a, \\u03b5) / 1.0\\n(c, \\u03b5) / 1.0\" });\n",
              "g.setEdge(\"1\", \"1\", { arrowhead: \"vee\", label: \"(\\u03b5, e) / 1.0\\n(b, \\u03b5) / 1.0\\n(b, e) / 1.0\\n. . .\" });\n",
              "g.setEdge(\"1\", \"2\", { arrowhead: \"vee\", label: \"(\\u03b5, d) / 1.0\\n(b, d) / 1.0\\n(a, d) / 1.0\\n(c, d) / 1.0\" });\n",
              "g.setEdge(\"2\", \"1\", { arrowhead: \"vee\", label: \"(\\u03b5, e) / 1.0\\n(b, e) / 1.0\\n(a, e) / 1.0\\n(c, e) / 1.0\" });\n",
              "g.setEdge(\"2\", \"2\", { arrowhead: \"vee\", label: \"(\\u03b5, d) / 1.0\\n(b, \\u03b5) / 1.0\\n(b, d) / 1.0\\n. . .\" });\n",
              "var svg = d3.select(\"#fst_6f16a78e1e3d4170b4123a6806064a26\"); \n",
              "\n",
              "\t\tvar inner = svg.select(\"g\");\n",
              "\n",
              "\t\t// Set up zoom support\n",
              "\t\tvar zoom = d3.zoom().scaleExtent([0.3, 5]).on(\"zoom\", function() {\n",
              "\t\tinner.attr(\"transform\", d3.event.transform);\n",
              "\t\t});\n",
              "\t\tsvg.call(zoom);\n",
              "\n",
              "\t\t// Create the renderer\n",
              "\t\tvar render = new dagreD3.render();\n",
              "\n",
              "\t\t// Run the renderer. This is what draws the final graph.\n",
              "\t\trender(inner, g);\n",
              "\n",
              "\t\t// Center the graph\n",
              "\t\tvar initialScale = 0.75;\n",
              "\t\tsvg.call(zoom.transform, d3.zoomIdentity.translate(\n",
              "\t\t    (svg.attr(\"width\") - g.graph().width * initialScale) / 2, 20).scale(initialScale));\n",
              "\n",
              "\t\tsvg.attr('height', g.graph().height * initialScale + 50);\n",
              "\t\t})();\n",
              "\n",
              "\t\t</script>\n",
              "\t\t"
            ]
          },
          "metadata": {},
          "execution_count": 8
        }
      ]
    },
    {
      "cell_type": "markdown",
      "source": [
        "### Subquestion d) - Composition"
      ],
      "metadata": {
        "id": "RCTCHqJLYwyh"
      }
    },
    {
      "cell_type": "markdown",
      "source": [
        "We provide some composition test cases for you to inspect."
      ],
      "metadata": {
        "id": "lzi_UzOx2yLt"
      }
    },
    {
      "cell_type": "code",
      "source": [
        "with open('test_cases.pkl', 'rb') as in_file:\n",
        "    examples = dill.load(in_file)"
      ],
      "metadata": {
        "id": "INUf9u0626E7"
      },
      "execution_count": null,
      "outputs": []
    },
    {
      "cell_type": "code",
      "source": [
        "# FST 1\n",
        "examples[0]['fst1']['fst']"
      ],
      "metadata": {
        "id": "tdDfLbCT3GSL",
        "outputId": "562c3f64-5d1c-4880-da60-0ebbf100092a",
        "colab": {
          "base_uri": "https://localhost:8080/",
          "height": 227
        }
      },
      "execution_count": null,
      "outputs": [
        {
          "output_type": "execute_result",
          "data": {
            "text/plain": [
              "WFSA(2 states, <class 'rayuela.base.semiring.Real'>)"
            ],
            "text/html": [
              "\n",
              "\t\t<script>\n",
              "\t\ttry {\n",
              "\t\trequire.config({\n",
              "\t\tpaths: {\n",
              "\t\t\"d3\": \"https://cdnjs.cloudflare.com/ajax/libs/d3/4.13.0/d3\",\n",
              "\t\t\"dagreD3\": \"https://cdnjs.cloudflare.com/ajax/libs/dagre-d3/0.6.1/dagre-d3.min\"\n",
              "\t\t}\n",
              "\t\t});\n",
              "\t\t} catch {\n",
              "\t\t  [\"https://cdnjs.cloudflare.com/ajax/libs/d3/4.13.0/d3.js\",\n",
              "\t\t   \"https://cdnjs.cloudflare.com/ajax/libs/dagre-d3/0.6.1/dagre-d3.min.js\"].forEach(function (src) {\n",
              "\t\t\tvar tag = document.createElement('script');\n",
              "\t\t\ttag.src = src;\n",
              "\t\t\tdocument.body.appendChild(tag);\n",
              "\t\t  })\n",
              "\t\t}\n",
              "\t\ttry {\n",
              "\t\trequirejs(['d3', 'dagreD3'], function() {});\n",
              "\t\t} catch (e) {}\n",
              "\t\ttry {\n",
              "\t\trequire(['d3', 'dagreD3'], function() {});\n",
              "\t\t} catch (e) {}\n",
              "\t\t</script>\n",
              "\t\t<style>\n",
              "\t\t.node rect,\n",
              "\t\t.node circle,\n",
              "\t\t.node ellipse {\n",
              "\t\tstroke: #333;\n",
              "\t\tfill: #fff;\n",
              "\t\tstroke-width: 1px;\n",
              "\t\t}\n",
              "\n",
              "\t\t.edgePath path {\n",
              "\t\tstroke: #333;\n",
              "\t\tfill: #333;\n",
              "\t\tstroke-width: 1.5px;\n",
              "\t\t}\n",
              "\t\t</style>\n",
              "\t\t<center><svg width=\"850\" height=\"600\" id=\"fst_c36f7b375f774995ae1635fdc51b3434\"><g/></svg></center>\n",
              "\t\t<script>\n",
              "\t\t(function render_d3() {\n",
              "\t\tvar d3, dagreD3;\n",
              "\t\ttry { // requirejs is broken on external domains\n",
              "\t\t  d3 = require('d3');\n",
              "\t\t  dagreD3 = require('dagreD3');\n",
              "\t\t} catch (e) {\n",
              "\t\t  // for google colab\n",
              "\t\t  if(typeof window.d3 !== \"undefined\" && typeof window.dagreD3 !== \"undefined\") {\n",
              "\t\t\td3 = window.d3;\n",
              "\t\t\tdagreD3 = window.dagreD3;\n",
              "\t\t  } else { // not loaded yet, so wait and try again\n",
              "\t\t\tsetTimeout(render_d3, 50);\n",
              "\t\t\treturn;\n",
              "\t\t  }\n",
              "\t\t}\n",
              "\t\t//alert(\"loaded\");\n",
              "\t\tvar g = new dagreD3.graphlib.Graph().setGraph({ 'rankdir': 'LR' });\n",
              "\t\tg.setNode(\"0\", { label: \"0 / 0.049\" , shape: \"circle\" });\n",
              "g.node(\"0\").style = \"fill: #66c2a5\"; \n",
              "g.setNode(\"1\", { label: \"1 / 0.113\" , shape: \"circle\" });\n",
              "g.node(\"1\").style = \"fill: #fc8d62\"; \n",
              "g.setEdge(\"0\", \"1\", { arrowhead: \"vee\", label: \"(a, b) / 0.054\\n(\\u03b5, a) / 0.164\" });\n",
              "g.setEdge(\"1\", \"1\", { arrowhead: \"vee\", label: \"(b, \\u03b5) / 0.092\\n(a, a) / 0.036\" });\n",
              "var svg = d3.select(\"#fst_c36f7b375f774995ae1635fdc51b3434\"); \n",
              "\n",
              "\t\tvar inner = svg.select(\"g\");\n",
              "\n",
              "\t\t// Set up zoom support\n",
              "\t\tvar zoom = d3.zoom().scaleExtent([0.3, 5]).on(\"zoom\", function() {\n",
              "\t\tinner.attr(\"transform\", d3.event.transform);\n",
              "\t\t});\n",
              "\t\tsvg.call(zoom);\n",
              "\n",
              "\t\t// Create the renderer\n",
              "\t\tvar render = new dagreD3.render();\n",
              "\n",
              "\t\t// Run the renderer. This is what draws the final graph.\n",
              "\t\trender(inner, g);\n",
              "\n",
              "\t\t// Center the graph\n",
              "\t\tvar initialScale = 0.75;\n",
              "\t\tsvg.call(zoom.transform, d3.zoomIdentity.translate(\n",
              "\t\t    (svg.attr(\"width\") - g.graph().width * initialScale) / 2, 20).scale(initialScale));\n",
              "\n",
              "\t\tsvg.attr('height', g.graph().height * initialScale + 50);\n",
              "\t\t})();\n",
              "\n",
              "\t\t</script>\n",
              "\t\t"
            ]
          },
          "metadata": {},
          "execution_count": 13
        }
      ]
    },
    {
      "cell_type": "code",
      "source": [
        "# FST 2\n",
        "examples[0]['fst2']['fst']"
      ],
      "metadata": {
        "id": "08ShFifD3Lhm",
        "colab": {
          "base_uri": "https://localhost:8080/",
          "height": 227
        },
        "outputId": "169f825b-d314-4e5f-9b85-0b6047f8bd4c"
      },
      "execution_count": null,
      "outputs": [
        {
          "output_type": "execute_result",
          "data": {
            "text/plain": [
              "WFSA(2 states, <class 'rayuela.base.semiring.Real'>)"
            ],
            "text/html": [
              "\n",
              "\t\t<script>\n",
              "\t\ttry {\n",
              "\t\trequire.config({\n",
              "\t\tpaths: {\n",
              "\t\t\"d3\": \"https://cdnjs.cloudflare.com/ajax/libs/d3/4.13.0/d3\",\n",
              "\t\t\"dagreD3\": \"https://cdnjs.cloudflare.com/ajax/libs/dagre-d3/0.6.1/dagre-d3.min\"\n",
              "\t\t}\n",
              "\t\t});\n",
              "\t\t} catch {\n",
              "\t\t  [\"https://cdnjs.cloudflare.com/ajax/libs/d3/4.13.0/d3.js\",\n",
              "\t\t   \"https://cdnjs.cloudflare.com/ajax/libs/dagre-d3/0.6.1/dagre-d3.min.js\"].forEach(function (src) {\n",
              "\t\t\tvar tag = document.createElement('script');\n",
              "\t\t\ttag.src = src;\n",
              "\t\t\tdocument.body.appendChild(tag);\n",
              "\t\t  })\n",
              "\t\t}\n",
              "\t\ttry {\n",
              "\t\trequirejs(['d3', 'dagreD3'], function() {});\n",
              "\t\t} catch (e) {}\n",
              "\t\ttry {\n",
              "\t\trequire(['d3', 'dagreD3'], function() {});\n",
              "\t\t} catch (e) {}\n",
              "\t\t</script>\n",
              "\t\t<style>\n",
              "\t\t.node rect,\n",
              "\t\t.node circle,\n",
              "\t\t.node ellipse {\n",
              "\t\tstroke: #333;\n",
              "\t\tfill: #fff;\n",
              "\t\tstroke-width: 1px;\n",
              "\t\t}\n",
              "\n",
              "\t\t.edgePath path {\n",
              "\t\tstroke: #333;\n",
              "\t\tfill: #333;\n",
              "\t\tstroke-width: 1.5px;\n",
              "\t\t}\n",
              "\t\t</style>\n",
              "\t\t<center><svg width=\"850\" height=\"600\" id=\"fst_a84325512b344c35a63bf63274b2a649\"><g/></svg></center>\n",
              "\t\t<script>\n",
              "\t\t(function render_d3() {\n",
              "\t\tvar d3, dagreD3;\n",
              "\t\ttry { // requirejs is broken on external domains\n",
              "\t\t  d3 = require('d3');\n",
              "\t\t  dagreD3 = require('dagreD3');\n",
              "\t\t} catch (e) {\n",
              "\t\t  // for google colab\n",
              "\t\t  if(typeof window.d3 !== \"undefined\" && typeof window.dagreD3 !== \"undefined\") {\n",
              "\t\t\td3 = window.d3;\n",
              "\t\t\tdagreD3 = window.dagreD3;\n",
              "\t\t  } else { // not loaded yet, so wait and try again\n",
              "\t\t\tsetTimeout(render_d3, 50);\n",
              "\t\t\treturn;\n",
              "\t\t  }\n",
              "\t\t}\n",
              "\t\t//alert(\"loaded\");\n",
              "\t\tvar g = new dagreD3.graphlib.Graph().setGraph({ 'rankdir': 'LR' });\n",
              "\t\tg.setNode(\"0\", { label: \"0 / 0.086\" , shape: \"circle\" });\n",
              "g.node(\"0\").style = \"fill: #66c2a5\"; \n",
              "g.setNode(\"1\", { label: \"1 / 0.077\" , shape: \"circle\" });\n",
              "g.node(\"1\").style = \"fill: #fc8d62\"; \n",
              "g.setEdge(\"0\", \"1\", { arrowhead: \"vee\", label: \"(b, a) / 0.032\\n(a, \\u03b5) / 0.096\" });\n",
              "g.setEdge(\"1\", \"1\", { arrowhead: \"vee\", label: \"(b, a) / 0.091\\n(a, a) / 0.059\" });\n",
              "var svg = d3.select(\"#fst_a84325512b344c35a63bf63274b2a649\"); \n",
              "\n",
              "\t\tvar inner = svg.select(\"g\");\n",
              "\n",
              "\t\t// Set up zoom support\n",
              "\t\tvar zoom = d3.zoom().scaleExtent([0.3, 5]).on(\"zoom\", function() {\n",
              "\t\tinner.attr(\"transform\", d3.event.transform);\n",
              "\t\t});\n",
              "\t\tsvg.call(zoom);\n",
              "\n",
              "\t\t// Create the renderer\n",
              "\t\tvar render = new dagreD3.render();\n",
              "\n",
              "\t\t// Run the renderer. This is what draws the final graph.\n",
              "\t\trender(inner, g);\n",
              "\n",
              "\t\t// Center the graph\n",
              "\t\tvar initialScale = 0.75;\n",
              "\t\tsvg.call(zoom.transform, d3.zoomIdentity.translate(\n",
              "\t\t    (svg.attr(\"width\") - g.graph().width * initialScale) / 2, 20).scale(initialScale));\n",
              "\n",
              "\t\tsvg.attr('height', g.graph().height * initialScale + 50);\n",
              "\t\t})();\n",
              "\n",
              "\t\t</script>\n",
              "\t\t"
            ]
          },
          "metadata": {},
          "execution_count": 14
        }
      ]
    },
    {
      "cell_type": "code",
      "source": [
        "# composition\n",
        "examples[0]['composition']['fst']"
      ],
      "metadata": {
        "colab": {
          "base_uri": "https://localhost:8080/",
          "height": 287
        },
        "id": "OoiHkRqrCe64",
        "outputId": "93acca3f-da77-4f3b-ba60-d67420edd8a8"
      },
      "execution_count": null,
      "outputs": [
        {
          "output_type": "execute_result",
          "data": {
            "text/plain": [
              "WFSA(2 states, <class 'rayuela.base.semiring.Real'>)"
            ],
            "text/html": [
              "\n",
              "\t\t<script>\n",
              "\t\ttry {\n",
              "\t\trequire.config({\n",
              "\t\tpaths: {\n",
              "\t\t\"d3\": \"https://cdnjs.cloudflare.com/ajax/libs/d3/4.13.0/d3\",\n",
              "\t\t\"dagreD3\": \"https://cdnjs.cloudflare.com/ajax/libs/dagre-d3/0.6.1/dagre-d3.min\"\n",
              "\t\t}\n",
              "\t\t});\n",
              "\t\t} catch {\n",
              "\t\t  [\"https://cdnjs.cloudflare.com/ajax/libs/d3/4.13.0/d3.js\",\n",
              "\t\t   \"https://cdnjs.cloudflare.com/ajax/libs/dagre-d3/0.6.1/dagre-d3.min.js\"].forEach(function (src) {\n",
              "\t\t\tvar tag = document.createElement('script');\n",
              "\t\t\ttag.src = src;\n",
              "\t\t\tdocument.body.appendChild(tag);\n",
              "\t\t  })\n",
              "\t\t}\n",
              "\t\ttry {\n",
              "\t\trequirejs(['d3', 'dagreD3'], function() {});\n",
              "\t\t} catch (e) {}\n",
              "\t\ttry {\n",
              "\t\trequire(['d3', 'dagreD3'], function() {});\n",
              "\t\t} catch (e) {}\n",
              "\t\t</script>\n",
              "\t\t<style>\n",
              "\t\t.node rect,\n",
              "\t\t.node circle,\n",
              "\t\t.node ellipse {\n",
              "\t\tstroke: #333;\n",
              "\t\tfill: #fff;\n",
              "\t\tstroke-width: 1px;\n",
              "\t\t}\n",
              "\n",
              "\t\t.edgePath path {\n",
              "\t\tstroke: #333;\n",
              "\t\tfill: #333;\n",
              "\t\tstroke-width: 1.5px;\n",
              "\t\t}\n",
              "\t\t</style>\n",
              "\t\t<center><svg width=\"850\" height=\"600\" id=\"fst_718b5791e89e4f099219a4d58c6d07ed\"><g/></svg></center>\n",
              "\t\t<script>\n",
              "\t\t(function render_d3() {\n",
              "\t\tvar d3, dagreD3;\n",
              "\t\ttry { // requirejs is broken on external domains\n",
              "\t\t  d3 = require('d3');\n",
              "\t\t  dagreD3 = require('dagreD3');\n",
              "\t\t} catch (e) {\n",
              "\t\t  // for google colab\n",
              "\t\t  if(typeof window.d3 !== \"undefined\" && typeof window.dagreD3 !== \"undefined\") {\n",
              "\t\t\td3 = window.d3;\n",
              "\t\t\tdagreD3 = window.dagreD3;\n",
              "\t\t  } else { // not loaded yet, so wait and try again\n",
              "\t\t\tsetTimeout(render_d3, 50);\n",
              "\t\t\treturn;\n",
              "\t\t  }\n",
              "\t\t}\n",
              "\t\t//alert(\"loaded\");\n",
              "\t\tvar g = new dagreD3.graphlib.Graph().setGraph({ 'rankdir': 'LR' });\n",
              "\t\tg.setNode(\"( 0, 0 )\", { label: \"( 0, 0 ) / 0.004214\" , shape: \"circle\" });\n",
              "g.node(\"( 0, 0 )\").style = \"fill: #66c2a5\"; \n",
              "g.setNode(\"( 1, 1 )\", { label: \"( 1, 1 ) / 0.008701\" , shape: \"circle\" });\n",
              "g.node(\"( 1, 1 )\").style = \"fill: #fc8d62\"; \n",
              "g.setEdge(\"( 1, 1 )\", \"( 1, 1 )\", { arrowhead: \"vee\", label: \"(b, \\u03b5) / 0.092\\n(a, a) / 0.002124\" });\n",
              "g.setEdge(\"( 0, 0 )\", \"( 1, 1 )\", { arrowhead: \"vee\", label: \"(a, a) / 0.001728\\n(\\u03b5, \\u03b5) / 0.015744\" });\n",
              "var svg = d3.select(\"#fst_718b5791e89e4f099219a4d58c6d07ed\"); \n",
              "\n",
              "\t\tvar inner = svg.select(\"g\");\n",
              "\n",
              "\t\t// Set up zoom support\n",
              "\t\tvar zoom = d3.zoom().scaleExtent([0.3, 5]).on(\"zoom\", function() {\n",
              "\t\tinner.attr(\"transform\", d3.event.transform);\n",
              "\t\t});\n",
              "\t\tsvg.call(zoom);\n",
              "\n",
              "\t\t// Create the renderer\n",
              "\t\tvar render = new dagreD3.render();\n",
              "\n",
              "\t\t// Run the renderer. This is what draws the final graph.\n",
              "\t\trender(inner, g);\n",
              "\n",
              "\t\t// Center the graph\n",
              "\t\tvar initialScale = 0.75;\n",
              "\t\tsvg.call(zoom.transform, d3.zoomIdentity.translate(\n",
              "\t\t    (svg.attr(\"width\") - g.graph().width * initialScale) / 2, 20).scale(initialScale));\n",
              "\n",
              "\t\tsvg.attr('height', g.graph().height * initialScale + 50);\n",
              "\t\t})();\n",
              "\n",
              "\t\t</script>\n",
              "\t\t"
            ]
          },
          "metadata": {},
          "execution_count": 15
        }
      ]
    },
    {
      "cell_type": "code",
      "source": [
        "# semiring\n",
        "examples[0]['semiring']"
      ],
      "metadata": {
        "id": "A20SmaPN3Ux3",
        "colab": {
          "base_uri": "https://localhost:8080/"
        },
        "outputId": "31a94d4f-16ba-4607-d873-960260cdd118"
      },
      "execution_count": null,
      "outputs": [
        {
          "output_type": "execute_result",
          "data": {
            "text/plain": [
              "rayuela.base.semiring.Real"
            ]
          },
          "metadata": {},
          "execution_count": 16
        }
      ]
    },
    {
      "cell_type": "code",
      "source": [
        "def compose(fst1, fst2):\n",
        "    \"\"\" Takes as input two transducers and returns\n",
        "    their composition\n",
        "    \"\"\"\n",
        "    # The machines must be in the same semiring\n",
        "    assert fst1.R == fst2.R\n",
        "\n",
        "    comp_fst = FST(R=fst1.R)\n",
        "    semiring = fst1.R\n",
        "    initial_states = [(i1[0], i2[0], i3) for i1, i2, i3 in zip(fst1.I, fst2.I, {State('0')})]\n",
        "\n",
        "    final_weights = {}\n",
        "    final_states = [(f1[0], f2[0]) for f1, f2 in zip(fst1.F, fst2.F)]\n",
        "    for state in final_states:\n",
        "        final_weights[state] = fst1.ρ[state[0]] * fst2.ρ[state[1]]\n",
        "        comp_fst.set_F(state, final_weights[state])\n",
        "\n",
        "    # Q = initial_states\n",
        "    I = initial_states\n",
        "    S = initial_states # initialize a queue\n",
        "    Q = [(i1[0], i2[0]) for i1, i2 in zip(fst1.I, fst2.I)]\n",
        "\n",
        "    # computing the initial weights\n",
        "    initial_weights = {}\n",
        "    for state in I:\n",
        "        state_pair = (state[0], state[1])\n",
        "        initial_weights[state] = fst1.λ[state[0]] * fst2.λ[state[1]]\n",
        "\n",
        "        comp_fst.set_I(state_pair, initial_weights[state])\n",
        "\n",
        "    while S:\n",
        "        # dequeue\n",
        "        p_state = S.pop(0)\n",
        "\n",
        "        # Augmentation\n",
        "        input_output1 = fst1.δ[p_state[0]].copy()\n",
        "        input_output1[(ε, ε_1)] = {p_state[0]: semiring.one}\n",
        "        input_output2 = fst2.δ[p_state[1]].copy()\n",
        "        input_output2[(ε_2, ε)] = {p_state[1]: semiring.one}\n",
        "\n",
        "        # possible (input1, output1), (input2, output2) pairs of pairs\n",
        "        io_pairs = [(io1, io2) for io1 in input_output1 \\\n",
        "                    if len(fst1.δ[p_state[0]][io1])>0 \\\n",
        "                    for io2 in input_output2 if \\\n",
        "                    len(fst2.δ[p_state[1]][io2])>0]\n",
        "\n",
        "\n",
        "        # create loop to visit each next state\n",
        "        for io_pair in io_pairs:\n",
        "\n",
        "            # Relabeling\n",
        "            q3 = p_state[2]\n",
        "            a1 = Sym(str(io_pair[0][1]).replace('ε','ε_2'))\n",
        "            a2 = Sym(str(io_pair[1][0]).replace('ε','ε_1'))\n",
        "            filter_q3 = epsilon_filter(a1, a2, q3)\n",
        "\n",
        "            if filter_q3 != State('⊥'):\n",
        "                # previous states\n",
        "                p1 = p_state[0]\n",
        "                p2 = p_state[1]\n",
        "                # input and output character\n",
        "                i = io_pair[0][0]\n",
        "                o = io_pair[1][1]\n",
        "                # next states\n",
        "                n1 = list(fst1.δ[p_state[0]][io_pair[0]].keys())[0]\n",
        "                n2 = list(fst2.δ[p_state[1]][io_pair[1]].keys())[0]\n",
        "                # weights\n",
        "                w1 = list(fst1.δ[p_state[0]][io_pair[0]].values())[0]\n",
        "                w2 = list(fst2.δ[p_state[1]][io_pair[1]].values())[0]\n",
        "                w = w1*w2\n",
        "\n",
        "                if (n1, n2) not in Q:\n",
        "                    Q.append((n1, n2))\n",
        "                    # enqueue\n",
        "                    S.append((n1, n2, filter_q3))\n",
        "\n",
        "                comp_fst.add_arc((p1, p2), i, o, (n1, n2), w)\n",
        "\n",
        "\n",
        "            else:\n",
        "                pass\n",
        "\n",
        "    return comp_fst"
      ],
      "metadata": {
        "id": "5WA1dzHeLFBZ"
      },
      "execution_count": null,
      "outputs": []
    },
    {
      "cell_type": "code",
      "source": [
        "with open('test_cases.pkl', 'rb') as in_file:\n",
        "    examples = dill.load(in_file)\n",
        "fst1 = examples[2]['fst1']['fst']\n",
        "fst2 = examples[2]['fst2']['fst']\n",
        "\n",
        "compose(fst1, fst2)"
      ],
      "metadata": {
        "colab": {
          "base_uri": "https://localhost:8080/",
          "height": 164
        },
        "id": "Z5X_bEVXrntK",
        "outputId": "df36a54f-d266-4cc1-b371-45f5aefba00b"
      },
      "execution_count": null,
      "outputs": [
        {
          "output_type": "execute_result",
          "data": {
            "text/plain": [
              "WFSA(4 states, <class 'rayuela.base.semiring.Boolean'>)"
            ],
            "text/html": [
              "\n",
              "\t\t<script>\n",
              "\t\ttry {\n",
              "\t\trequire.config({\n",
              "\t\tpaths: {\n",
              "\t\t\"d3\": \"https://cdnjs.cloudflare.com/ajax/libs/d3/4.13.0/d3\",\n",
              "\t\t\"dagreD3\": \"https://cdnjs.cloudflare.com/ajax/libs/dagre-d3/0.6.1/dagre-d3.min\"\n",
              "\t\t}\n",
              "\t\t});\n",
              "\t\t} catch {\n",
              "\t\t  [\"https://cdnjs.cloudflare.com/ajax/libs/d3/4.13.0/d3.js\",\n",
              "\t\t   \"https://cdnjs.cloudflare.com/ajax/libs/dagre-d3/0.6.1/dagre-d3.min.js\"].forEach(function (src) {\n",
              "\t\t\tvar tag = document.createElement('script');\n",
              "\t\t\ttag.src = src;\n",
              "\t\t\tdocument.body.appendChild(tag);\n",
              "\t\t  })\n",
              "\t\t}\n",
              "\t\ttry {\n",
              "\t\trequirejs(['d3', 'dagreD3'], function() {});\n",
              "\t\t} catch (e) {}\n",
              "\t\ttry {\n",
              "\t\trequire(['d3', 'dagreD3'], function() {});\n",
              "\t\t} catch (e) {}\n",
              "\t\t</script>\n",
              "\t\t<style>\n",
              "\t\t.node rect,\n",
              "\t\t.node circle,\n",
              "\t\t.node ellipse {\n",
              "\t\tstroke: #333;\n",
              "\t\tfill: #fff;\n",
              "\t\tstroke-width: 1px;\n",
              "\t\t}\n",
              "\n",
              "\t\t.edgePath path {\n",
              "\t\tstroke: #333;\n",
              "\t\tfill: #333;\n",
              "\t\tstroke-width: 1.5px;\n",
              "\t\t}\n",
              "\t\t</style>\n",
              "\t\t<center><svg width=\"850\" height=\"600\" id=\"fst_109b6844245e4122bb4a6ae2f2bfb14f\"><g/></svg></center>\n",
              "\t\t<script>\n",
              "\t\t(function render_d3() {\n",
              "\t\tvar d3, dagreD3;\n",
              "\t\ttry { // requirejs is broken on external domains\n",
              "\t\t  d3 = require('d3');\n",
              "\t\t  dagreD3 = require('dagreD3');\n",
              "\t\t} catch (e) {\n",
              "\t\t  // for google colab\n",
              "\t\t  if(typeof window.d3 !== \"undefined\" && typeof window.dagreD3 !== \"undefined\") {\n",
              "\t\t\td3 = window.d3;\n",
              "\t\t\tdagreD3 = window.dagreD3;\n",
              "\t\t  } else { // not loaded yet, so wait and try again\n",
              "\t\t\tsetTimeout(render_d3, 50);\n",
              "\t\t\treturn;\n",
              "\t\t  }\n",
              "\t\t}\n",
              "\t\t//alert(\"loaded\");\n",
              "\t\tvar g = new dagreD3.graphlib.Graph().setGraph({ 'rankdir': 'LR' });\n",
              "\t\tg.setNode(\"(0, 0)\", { label: \"(0, 0) / True\" , shape: \"circle\" });\n",
              "g.node(\"(0, 0)\").style = \"fill: #66c2a5\"; \n",
              "g.setNode(\"(0, 1)\", { label: \"(0, 1)\" , shape: \"circle\" });\n",
              "g.node(\"(0, 1)\").style = \"fill: #8da0cb\"; \n",
              "g.setNode(\"(1, 1)\", { label: \"(1, 1)\" , shape: \"circle\" });\n",
              "g.node(\"(1, 1)\").style = \"fill: #8da0cb\"; \n",
              "g.setNode(\"(2, 1)\", { label: \"(2, 1) / True\" , shape: \"circle\" });\n",
              "g.node(\"(2, 1)\").style = \"fill: #fc8d62\"; \n",
              "g.setEdge(\"(0, 1)\", \"(2, 1)\", { arrowhead: \"vee\", label: \"(a, b) / True\" });\n",
              "g.setEdge(\"(1, 1)\", \"(2, 1)\", { arrowhead: \"vee\", label: \"(c, b) / True\\n(b, b) / True\\n(\\u03b5, b) / True\" });\n",
              "g.setEdge(\"(2, 1)\", \"(1, 1)\", { arrowhead: \"vee\", label: \"(c, b) / True\" });\n",
              "g.setEdge(\"(0, 0)\", \"(0, 1)\", { arrowhead: \"vee\", label: \"(c, b) / True\\n(b, b) / True\\n(\\u03b5, b) / True\" });\n",
              "var svg = d3.select(\"#fst_109b6844245e4122bb4a6ae2f2bfb14f\"); \n",
              "\n",
              "\t\tvar inner = svg.select(\"g\");\n",
              "\n",
              "\t\t// Set up zoom support\n",
              "\t\tvar zoom = d3.zoom().scaleExtent([0.3, 5]).on(\"zoom\", function() {\n",
              "\t\tinner.attr(\"transform\", d3.event.transform);\n",
              "\t\t});\n",
              "\t\tsvg.call(zoom);\n",
              "\n",
              "\t\t// Create the renderer\n",
              "\t\tvar render = new dagreD3.render();\n",
              "\n",
              "\t\t// Run the renderer. This is what draws the final graph.\n",
              "\t\trender(inner, g);\n",
              "\n",
              "\t\t// Center the graph\n",
              "\t\tvar initialScale = 0.75;\n",
              "\t\tsvg.call(zoom.transform, d3.zoomIdentity.translate(\n",
              "\t\t    (svg.attr(\"width\") - g.graph().width * initialScale) / 2, 20).scale(initialScale));\n",
              "\n",
              "\t\tsvg.attr('height', g.graph().height * initialScale + 50);\n",
              "\t\t})();\n",
              "\n",
              "\t\t</script>\n",
              "\t\t"
            ]
          },
          "metadata": {},
          "execution_count": 15
        }
      ]
    },
    {
      "cell_type": "code",
      "source": [
        "examples[2]['composition']['fst']"
      ],
      "metadata": {
        "colab": {
          "base_uri": "https://localhost:8080/",
          "height": 312
        },
        "id": "5JV57MiVpzPw",
        "outputId": "e9283652-72ad-44b9-8efe-9fc470e3e28c"
      },
      "execution_count": null,
      "outputs": [
        {
          "output_type": "execute_result",
          "data": {
            "text/plain": [
              "WFSA(5 states, <class 'rayuela.base.semiring.Boolean'>)"
            ],
            "text/html": [
              "\n",
              "\t\t<script>\n",
              "\t\ttry {\n",
              "\t\trequire.config({\n",
              "\t\tpaths: {\n",
              "\t\t\"d3\": \"https://cdnjs.cloudflare.com/ajax/libs/d3/4.13.0/d3\",\n",
              "\t\t\"dagreD3\": \"https://cdnjs.cloudflare.com/ajax/libs/dagre-d3/0.6.1/dagre-d3.min\"\n",
              "\t\t}\n",
              "\t\t});\n",
              "\t\t} catch {\n",
              "\t\t  [\"https://cdnjs.cloudflare.com/ajax/libs/d3/4.13.0/d3.js\",\n",
              "\t\t   \"https://cdnjs.cloudflare.com/ajax/libs/dagre-d3/0.6.1/dagre-d3.min.js\"].forEach(function (src) {\n",
              "\t\t\tvar tag = document.createElement('script');\n",
              "\t\t\ttag.src = src;\n",
              "\t\t\tdocument.body.appendChild(tag);\n",
              "\t\t  })\n",
              "\t\t}\n",
              "\t\ttry {\n",
              "\t\trequirejs(['d3', 'dagreD3'], function() {});\n",
              "\t\t} catch (e) {}\n",
              "\t\ttry {\n",
              "\t\trequire(['d3', 'dagreD3'], function() {});\n",
              "\t\t} catch (e) {}\n",
              "\t\t</script>\n",
              "\t\t<style>\n",
              "\t\t.node rect,\n",
              "\t\t.node circle,\n",
              "\t\t.node ellipse {\n",
              "\t\tstroke: #333;\n",
              "\t\tfill: #fff;\n",
              "\t\tstroke-width: 1px;\n",
              "\t\t}\n",
              "\n",
              "\t\t.edgePath path {\n",
              "\t\tstroke: #333;\n",
              "\t\tfill: #333;\n",
              "\t\tstroke-width: 1.5px;\n",
              "\t\t}\n",
              "\t\t</style>\n",
              "\t\t<center><svg width=\"850\" height=\"600\" id=\"fst_1b084a98459d4739b917bc351746a6ac\"><g/></svg></center>\n",
              "\t\t<script>\n",
              "\t\t(function render_d3() {\n",
              "\t\tvar d3, dagreD3;\n",
              "\t\ttry { // requirejs is broken on external domains\n",
              "\t\t  d3 = require('d3');\n",
              "\t\t  dagreD3 = require('dagreD3');\n",
              "\t\t} catch (e) {\n",
              "\t\t  // for google colab\n",
              "\t\t  if(typeof window.d3 !== \"undefined\" && typeof window.dagreD3 !== \"undefined\") {\n",
              "\t\t\td3 = window.d3;\n",
              "\t\t\tdagreD3 = window.dagreD3;\n",
              "\t\t  } else { // not loaded yet, so wait and try again\n",
              "\t\t\tsetTimeout(render_d3, 50);\n",
              "\t\t\treturn;\n",
              "\t\t  }\n",
              "\t\t}\n",
              "\t\t//alert(\"loaded\");\n",
              "\t\tvar g = new dagreD3.graphlib.Graph().setGraph({ 'rankdir': 'LR' });\n",
              "\t\tg.setNode(\"( 0, 0 )\", { label: \"( 0, 0 ) / True\" , shape: \"circle\" });\n",
              "g.node(\"( 0, 0 )\").style = \"fill: #66c2a5\"; \n",
              "g.setNode(\"( 0, 1 )\", { label: \"( 0, 1 )\" , shape: \"circle\" });\n",
              "g.node(\"( 0, 1 )\").style = \"fill: #8da0cb\"; \n",
              "g.setNode(\"( 1, 1 )\", { label: \"( 1, 1 )\" , shape: \"circle\" });\n",
              "g.node(\"( 1, 1 )\").style = \"fill: #8da0cb\"; \n",
              "g.setNode(\"( 2, 0 )\", { label: \"( 2, 0 )\" , shape: \"circle\" });\n",
              "g.node(\"( 2, 0 )\").style = \"fill: #8da0cb\"; \n",
              "g.setNode(\"( 2, 1 )\", { label: \"( 2, 1 ) / True\" , shape: \"circle\" });\n",
              "g.node(\"( 2, 1 )\").style = \"fill: #fc8d62\"; \n",
              "g.setEdge(\"( 0, 1 )\", \"( 0, 1 )\", { arrowhead: \"vee\", label: \"(\\u03b5, b) / True\" });\n",
              "g.setEdge(\"( 0, 1 )\", \"( 2, 1 )\", { arrowhead: \"vee\", label: \"(a, \\u03b5) / True\\n(a, b) / True\" });\n",
              "g.setEdge(\"( 2, 1 )\", \"( 1, 1 )\", { arrowhead: \"vee\", label: \"(c, b) / True\" });\n",
              "g.setEdge(\"( 2, 1 )\", \"( 2, 1 )\", { arrowhead: \"vee\", label: \"(\\u03b5, b) / True\" });\n",
              "g.setEdge(\"( 0, 0 )\", \"( 0, 1 )\", { arrowhead: \"vee\", label: \"(c, b) / True\\n(b, b) / True\\n(\\u03b5, b) / True\" });\n",
              "g.setEdge(\"( 0, 0 )\", \"( 2, 0 )\", { arrowhead: \"vee\", label: \"(a, \\u03b5) / True\" });\n",
              "g.setEdge(\"( 1, 1 )\", \"( 1, 1 )\", { arrowhead: \"vee\", label: \"(\\u03b5, b) / True\" });\n",
              "g.setEdge(\"( 1, 1 )\", \"( 2, 1 )\", { arrowhead: \"vee\", label: \"(\\u03b5, b) / True\\n(c, b) / True\\n(b, b) / True\\n(\\u03b5, \\u03b5) / True\" });\n",
              "g.setEdge(\"( 2, 0 )\", \"( 1, 1 )\", { arrowhead: \"vee\", label: \"(c, c) / True\" });\n",
              "g.setEdge(\"( 2, 0 )\", \"( 0, 1 )\", { arrowhead: \"vee\", label: \"(a, b) / True\" });\n",
              "var svg = d3.select(\"#fst_1b084a98459d4739b917bc351746a6ac\"); \n",
              "\n",
              "\t\tvar inner = svg.select(\"g\");\n",
              "\n",
              "\t\t// Set up zoom support\n",
              "\t\tvar zoom = d3.zoom().scaleExtent([0.3, 5]).on(\"zoom\", function() {\n",
              "\t\tinner.attr(\"transform\", d3.event.transform);\n",
              "\t\t});\n",
              "\t\tsvg.call(zoom);\n",
              "\n",
              "\t\t// Create the renderer\n",
              "\t\tvar render = new dagreD3.render();\n",
              "\n",
              "\t\t// Run the renderer. This is what draws the final graph.\n",
              "\t\trender(inner, g);\n",
              "\n",
              "\t\t// Center the graph\n",
              "\t\tvar initialScale = 0.75;\n",
              "\t\tsvg.call(zoom.transform, d3.zoomIdentity.translate(\n",
              "\t\t    (svg.attr(\"width\") - g.graph().width * initialScale) / 2, 20).scale(initialScale));\n",
              "\n",
              "\t\tsvg.attr('height', g.graph().height * initialScale + 50);\n",
              "\t\t})();\n",
              "\n",
              "\t\t</script>\n",
              "\t\t"
            ]
          },
          "metadata": {},
          "execution_count": 16
        }
      ]
    },
    {
      "cell_type": "markdown",
      "source": [
        "### Subquestion e) - Lehmann's Algorithm\n"
      ],
      "metadata": {
        "id": "_iBUgq4vY8Th"
      }
    },
    {
      "cell_type": "code",
      "source": [
        "from IPython.core.display import display_svg\n",
        "from functools import WRAPPER_ASSIGNMENTS\n",
        "class Pathsum:\n",
        "    def __init__(self, fsa):\n",
        "\n",
        "        # basic FSA stuff\n",
        "        self.fsa = fsa\n",
        "        self.R = fsa.R\n",
        "        self.N = self.fsa.num_states\n",
        "\n",
        "        # state dictionary\n",
        "        self.I = {}\n",
        "        for n, q in enumerate(self.fsa.Q):\n",
        "            self.I[q] = n\n",
        "\n",
        "        # lift into the semiring\n",
        "        self.W, self.W_dict, self.alpha, self.beta = self.lift()\n",
        "\n",
        "    def lift(self):\n",
        "        \"\"\" creates the weight matrix, initial weight vector,\n",
        "        final weight vector from the automaton \"\"\"\n",
        "        W = self.R.zeros((self.N, self.N))\n",
        "        W_dict = {a: {} for a in self.fsa.Sigma}\n",
        "        alpha = self.R.zeros((self.N,))\n",
        "        beta = self.R.zeros((self.N,))\n",
        "        for a in self.fsa.Sigma:\n",
        "            for b in self.fsa.Delta:\n",
        "                W_dict[a][b] = self.R.zeros((self.N, self.N))\n",
        "        for p in self.fsa.Q:\n",
        "            alpha[self.I[p]] += self.fsa.λ[p]\n",
        "            beta[self.I[p]] += self.fsa.ρ[p]\n",
        "            for (a, b), q, w in self.fsa.arcs(p):\n",
        "                W[self.I[p], self.I[q]] += w\n",
        "                W_dict[a][b][self.I[p], self.I[q]] = w\n",
        "        return W, W_dict, alpha, beta\n",
        "\n",
        "    def lehmann(self):\n",
        "        \"\"\"\n",
        "        Lehmann's (1977) algorithm.\n",
        "        \"\"\"\n",
        "        R = self.W\n",
        "\n",
        "        for j in range(len(R)):\n",
        "            for i in range(len(R)):\n",
        "                for k in range(len(R)):\n",
        "                    R[i][k] = R[i][k] + (R[i][j]*R[j][j].star()*R[j][k])\n",
        "\n",
        "        return R + self.R.diag(self.N)\n",
        "\n",
        "    def _iterate(self, K):\n",
        "        P = self.R.diag((self.N))\n",
        "        for n in range(K):\n",
        "            P += self.W @ P\n",
        "        return P\n",
        "\n",
        "    def _fixpoint(self, K=200):\n",
        "        if self.fsa.R.idempotent:\n",
        "            return self._iterate(self.fsa.num_states)\n",
        "\n",
        "        diag = self.R.zeros((self.fsa.num_states, self.fsa.num_states))\n",
        "        for n in range(self.fsa.num_states):\n",
        "            diag[n, n] = self.fsa.R.one\n",
        "        P_old = diag\n",
        "\n",
        "        for _ in range(K):\n",
        "            P_new = diag + self.W @ P_old\n",
        "            P_old = P_new\n",
        "\n",
        "        return P_old\n",
        "\n",
        "    def fixpoint(self):\n",
        "\n",
        "        P = self._fixpoint()\n",
        "        W = {}\n",
        "\n",
        "        for p in self.fsa.Q:\n",
        "            for q in self.fsa.Q:\n",
        "                if p in self.I and q in self.I:\n",
        "                    W[p, q] = P[self.I[p], self.I[q]]\n",
        "                elif p == q:\n",
        "                    W[p, q] = self.R.one\n",
        "                else:\n",
        "                    W[p, q] = self.R.zero\n",
        "\n",
        "        return frozendict(W)"
      ],
      "metadata": {
        "id": "JdoPOG8ug-z1"
      },
      "execution_count": null,
      "outputs": []
    },
    {
      "cell_type": "code",
      "source": [
        "pathsum=Pathsum(examples[3]['fst1']['fst'])\n",
        "print(pathsum.fixpoint())\n",
        "print(pathsum.lehmann())"
      ],
      "metadata": {
        "colab": {
          "base_uri": "https://localhost:8080/"
        },
        "id": "4bGDxSC9qT-h",
        "outputId": "13a6eda1-0f7b-4661-93e2-e1991380f517"
      },
      "execution_count": null,
      "outputs": [
        {
          "output_type": "stream",
          "name": "stdout",
          "text": [
            "frozendict.frozendict({(0, 0): 1.204687055617909, (0, 1): 0.049703748026656, (0, 2): 0.238528037012346, (1, 0): 0.423848011191222, (1, 1): 1.064607810824038, (1, 2): 0.083921906215862, (2, 0): 0.297575363071423, (2, 1): 0.220654517754702, (2, 2): 1.058919921888142})\n",
            "[[1.210030479232752 0.052036796373853 0.249169852930657]\n",
            " [0.442313809320239 1.071795077141898 0.118150643517558]\n",
            " [0.315208576189901 0.226634327641494 1.085202126621377]]\n"
          ]
        }
      ]
    },
    {
      "cell_type": "markdown",
      "source": [
        "### Subquestion f) - Normalizer\n"
      ],
      "metadata": {
        "id": "j3yMKALJZE23"
      }
    },
    {
      "cell_type": "markdown",
      "source": [
        "We provide some test cases for you to inspect."
      ],
      "metadata": {
        "id": "HWYq69zqZBym"
      }
    },
    {
      "cell_type": "code",
      "source": [
        "examples[0]['fst1']['Z'], examples[0]['fst2']['Z'], examples[0]['composition']['Z']"
      ],
      "metadata": {
        "id": "2CfkrNj9ZCXj",
        "colab": {
          "base_uri": "https://localhost:8080/"
        },
        "outputId": "4e8b17da-44c7-4be0-c978-0a4345df34bd"
      },
      "execution_count": null,
      "outputs": [
        {
          "output_type": "execute_result",
          "data": {
            "text/plain": [
              "(0.00138425, 0.000997195294118, 7.07192371e-07)"
            ]
          },
          "metadata": {},
          "execution_count": 22
        }
      ]
    },
    {
      "cell_type": "code",
      "source": [
        "def normalizer(fst):\n",
        "    \"\"\" Takes as input a finite-state transducer and\n",
        "    returns its normalizer\n",
        "    \"\"\"\n",
        "\n",
        "    pathsum = Pathsum(fst)\n",
        "    # TODO: implement normalizer\n",
        "    lehm = pathsum.lehmann()\n",
        "    Z = pathsum.alpha @ lehm @ pathsum.beta\n",
        "\n",
        "    return Z"
      ],
      "metadata": {
        "id": "pEwB-REPhvQ_"
      },
      "execution_count": null,
      "outputs": []
    },
    {
      "cell_type": "code",
      "source": [
        "normalizer(examples[1]['fst1']['fst']), normalizer(examples[1]['fst2']['fst']), normalizer(examples[1]['composition']['fst'])"
      ],
      "metadata": {
        "colab": {
          "base_uri": "https://localhost:8080/"
        },
        "id": "dUKkNEGb335q",
        "outputId": "942ab7e2-572e-4807-d03c-017f21ee47e7"
      },
      "execution_count": null,
      "outputs": [
        {
          "output_type": "execute_result",
          "data": {
            "text/plain": [
              "(Tropical(66), Tropical(77), Tropical(166.0))"
            ]
          },
          "metadata": {},
          "execution_count": 25
        }
      ]
    },
    {
      "cell_type": "code",
      "source": [
        "examples[1]['fst1']['Z'], examples[1]['fst2']['Z'], examples[1]['composition']['Z']"
      ],
      "metadata": {
        "colab": {
          "base_uri": "https://localhost:8080/"
        },
        "id": "YJCHySvx39rR",
        "outputId": "fcce7c72-0b56-4242-cee2-f34a3e0999c2"
      },
      "execution_count": null,
      "outputs": [
        {
          "output_type": "execute_result",
          "data": {
            "text/plain": [
              "(Tropical(66), Tropical(77), Tropical(166.0))"
            ]
          },
          "metadata": {},
          "execution_count": 26
        }
      ]
    },
    {
      "cell_type": "markdown",
      "source": [
        "### Subquestion g) - Log-likelihood\n",
        "\n",
        "weight of\n",
        "use the function that was coded previously\n",
        "\n",
        "use composition and the normalizer. We need to figure out what we have to compose."
      ],
      "metadata": {
        "id": "Cn7vgvpSZPwQ"
      }
    },
    {
      "cell_type": "code",
      "source": [
        "def log_likelihood(source_alphabet, target_alphabet, source_str, target_str):\n",
        "    \"\"\" Takes as input the source and target alphabets (sets of characters)\n",
        "    and a pair of source and target strings and returns the log-likelihood\n",
        "    \"\"\"\n",
        "\n",
        "    # TODO: implement log-likelihood\n",
        "\n",
        "    raise NotImplementedError"
      ],
      "metadata": {
        "id": "MLZJLsx3iYUq"
      },
      "execution_count": null,
      "outputs": []
    },
    {
      "cell_type": "markdown",
      "source": [
        "### Subquestion h) - Decoding\n",
        "\n",
        "input string as a transducer, then compose with the edit distance transducer.\n",
        "after you get the composition figure out which is the weight of the path with the highest score.\n",
        "\n",
        "You can use lehmann."
      ],
      "metadata": {
        "id": "4ookC1XyZVCT"
      }
    },
    {
      "cell_type": "code",
      "source": [
        "def to_semiring(fst, semiring):\n",
        "    \"\"\" Lifts an WFST into a different semiring\n",
        "    \"\"\"\n",
        "    oone, one = fst.R.one, semiring.one\n",
        "    nfst = FST(semiring)\n",
        "\n",
        "    # initial weights\n",
        "    for q, w in fst.I:\n",
        "        if w == oone:\n",
        "            nfst.set_I(q, one)\n",
        "        else:\n",
        "            nfst.set_I(q, semiring(w.score))\n",
        "\n",
        "    # final weights\n",
        "    for q, w in fst.F:\n",
        "        if w == oone:\n",
        "            nfst.set_F(q, one)\n",
        "        else:\n",
        "            nfst.set_F(q, semiring(w.score))\n",
        "\n",
        "    # arcs\n",
        "    for p in fst.Q:\n",
        "        for (a, b), q, w in fst.arcs(p):\n",
        "            if w == oone:\n",
        "                nfst.add_arc(p, a, b, q, one)\n",
        "            else:\n",
        "                nfst.add_arc(p, a, b, q, semiring(w.score))\n",
        "\n",
        "    return nfst"
      ],
      "metadata": {
        "id": "Q6UXHrpMZcrV"
      },
      "execution_count": null,
      "outputs": []
    },
    {
      "cell_type": "code",
      "source": [
        "def decode(in_str, edit_distance_fst):\n",
        "    \"\"\" Gets as input a source string and an\n",
        "    edit-distance transducer and returns the weight of the most\n",
        "    probable target string\n",
        "    \"\"\"\n",
        "    fst = compose(string_fst(in_str), edit_distance_fst)\n",
        "    # I should  use the arctic semiring to compute this task but it's not defined in the rayuela library\n",
        "    artic_fst = to_semiring(fst, Arctic)\n",
        "    max_weight = normalizer(artic_fst)\n",
        "\n",
        "    return max_weight"
      ],
      "metadata": {
        "id": "YCImTl323bbd"
      },
      "execution_count": null,
      "outputs": []
    },
    {
      "cell_type": "code",
      "source": [],
      "metadata": {
        "id": "BGxoEcSR6n0o"
      },
      "execution_count": null,
      "outputs": []
    }
  ]
}